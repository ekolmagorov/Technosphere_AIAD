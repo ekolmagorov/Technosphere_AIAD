{
 "cells": [
  {
   "cell_type": "markdown",
   "metadata": {},
   "source": [
    "**Общая информация**\n",
    "\n",
    "**Срок сдачи:** 20 марта 2019, 06:00 <br\\>\n",
    "**Штраф за опоздание:** -1 балл после 06:00 20 марта, -2 балла после 06:00 27 марта, -3 балла после 06:00 3 апреля\n",
    "\n",
    "При отправлении ДЗ указывайте фамилию в названии файла\n",
    "Присылать ДЗ необходимо в виде ссылки на свой github репозиторий в slack @alkhamush\n",
    "\n",
    "Необходимо в slack скинуть ссылку в личный чат @alkhamush\n",
    "Пример ссылки:\n",
    "https://github.com/stroykova/spheremailru/stroykova_hw1.ipynb \n",
    "\n",
    "\n",
    "Используйте данный Ipython Notebook при оформлении домашнего задания."
   ]
  },
  {
   "cell_type": "markdown",
   "metadata": {},
   "source": [
    "###### Задание 1 (2 баллов)\n",
    "Реализовать KNN в классе MyKNeighborsClassifier (обязательное условие: точность не ниже sklearn реализации)\n",
    "Разберитесь самостоятельно, какая мера расстояния используется в KNeighborsClassifier дефолтно и реализуйте свой алгоритм именно с этой мерой. Самостоятельно разберитесь, как считается score из KNeighborsClassifier и реализуйте аналог в своём классе. Score не должен уступать значению KNN из sklearn\n",
    "\n",
    "###### Задание 2 (2 балла)\n",
    "Добиться скорости работы на fit,  predict и predict_proba сравнимой со sklearn для iris и mnist\n",
    "Для этого используем numpy\n",
    "\n",
    "###### Задание 3 (2 балла)\n",
    "Для iris найдите такой параметр n_neighbors, при котором выдаётся наилучший score. Нарисуйте график зависимости score от n_neighbors\n",
    "\n",
    "###### Задание 4 (3 балла)\n",
    "Добавить algorithm='kd_tree' в реализацию KNN (использовать KDTree из sklearn.neighbors). Значение n_neighbors нужно взять из задания 3. Добиться скорости работы на fit,  predict и predict_proba сравнимой со sklearn для iris и mnist\n",
    "Для этого используем numpy. Score не должен уступать значению KNN из sklearn\n",
    "\n",
    "###### Задание 5 (1 балла)\n",
    "Описать для чего нужны следующие библиотеки/классы/функции (список будет ниже)\n",
    "\n",
    "**Штрафные баллы:**\n",
    "\n",
    "1. Невыполнение PEP8 -1 балл\n",
    "2. Отсутствие фамилии в имени скрипта (скрипт должен называться по аналогии со stroykova_hw1.ipynb) -1 балл\n",
    "3. Все строчки должны быть выполнены. Нужно, чтобы output команды можно было увидеть уже в git'е. В противном случае -1 балл\n",
    "4. При оформлении ДЗ нужно пользоваться данным файлом в качестве шаблона. Не нужно удалять и видоизменять структуру кода и текст. В противном случае -1 балл\n"
   ]
  },
  {
   "cell_type": "code",
   "execution_count": 1,
   "metadata": {},
   "outputs": [],
   "source": [
    "import numpy as np\n",
    "import matplotlib.pyplot as plt\n",
    "\n",
    "import seaborn as sns\n",
    "from sklearn import datasets\n",
    "from sklearn.base import ClassifierMixin\n",
    "from sklearn.datasets import fetch_mldata\n",
    "from sklearn.neighbors.base import NeighborsBase, KNeighborsMixin, SupervisedIntegerMixin \n",
    "from sklearn.model_selection import train_test_split\n",
    "from sklearn.neighbors import KNeighborsClassifier\n",
    "from sklearn.neighbors import KDTree\n",
    "from sklearn.datasets import fetch_openml\n",
    "from sklearn.metrics import pairwise_distances\n",
    "%load_ext pycodestyle_magic"
   ]
  },
  {
   "cell_type": "code",
   "execution_count": 2,
   "metadata": {},
   "outputs": [],
   "source": [
    "\n",
    "\n",
    "class MyKNeighborsClassifier(NeighborsBase, KNeighborsMixin,\n",
    "                             SupervisedIntegerMixin, ClassifierMixin):\n",
    "\n",
    "    def __init__(self, n_neighbors, algorithm='brute'):\n",
    "\n",
    "        self.n_neighbors = n_neighbors\n",
    "        self.algorithm = algorithm\n",
    "\n",
    "    def fit(self, X, y):\n",
    "\n",
    "        self.X = X\n",
    "        self.y = y.astype(np.int32)\n",
    "        self.n_classes = np.unique(y).shape[0]\n",
    "\n",
    "        if (self.algorithm == 'kd_tree'):\n",
    "\n",
    "            self.tree = KDTree(self.X)\n",
    "\n",
    "        return self\n",
    "\n",
    "    def predict(self, X):\n",
    "\n",
    "        if (self.algorithm == 'brute'):\n",
    "            dists = pairwise_distances(X, self.X, metric='euclidean')\n",
    "            indexes = np.argpartition(\n",
    "                                        dists,\n",
    "                                        self.n_neighbors,\n",
    "                                        axis=1)[:, :self.n_neighbors]\n",
    "\n",
    "        elif (self.algorithm == 'kd_tree'):\n",
    "            indexes = self.tree.query(X, self.n_neighbors,\n",
    "                                      return_distance=False)\n",
    "\n",
    "        else:\n",
    "            raise AttributeError('Such method is not supported')\n",
    "\n",
    "        classes = self.y[indexes]\n",
    "        tmp = np.apply_along_axis(lambda x:\n",
    "                                  np.bincount(x, minlength=self.n_classes),\n",
    "                                  axis=1,\n",
    "                                  arr=classes)\n",
    "        res = np.argmax(tmp, axis=1)\n",
    "        return res\n",
    "\n",
    "    def predict_proba(self, X):\n",
    "\n",
    "        if (self.algorithm == 'brute'):\n",
    "            dists = pairwise_distances(X, self.X, metric='euclidean')\n",
    "            indexes = np.argpartition(\n",
    "                                        dists,\n",
    "                                        self.n_neighbors,\n",
    "                                        axis=1)[:, :self.n_neighbors]\n",
    "\n",
    "        elif (self.algorithm == 'kd_tree'):\n",
    "            indexes = self.tree.query(X,\n",
    "                                      self.n_neighbors,\n",
    "                                      return_distance=False)\n",
    "\n",
    "        else:\n",
    "            raise AttributeError('Such method is not supported')\n",
    "\n",
    "        classes = self.y[indexes]\n",
    "        votes = np.apply_along_axis(lambda x:\n",
    "                                    np.bincount(x, minlength=self.n_classes),\n",
    "                                    axis=1,\n",
    "                                    arr=classes)\n",
    "        return votes/self.n_neighbors\n",
    "\n",
    "    def score(self, X, y):\n",
    "\n",
    "        if (X.shape[0] != y.shape[0]):\n",
    "            raise ValueError(\"Shapes of X and y should be equal!\")\n",
    "\n",
    "        res = self.predict(X) == y.astype(np.int32)\n",
    "        return np.average(res)"
   ]
  },
  {
   "cell_type": "markdown",
   "metadata": {},
   "source": [
    "**IRIS**"
   ]
  },
  {
   "cell_type": "code",
   "execution_count": 3,
   "metadata": {},
   "outputs": [],
   "source": [
    "iris = datasets.load_iris()"
   ]
  },
  {
   "cell_type": "code",
   "execution_count": 4,
   "metadata": {},
   "outputs": [],
   "source": [
    "X_train, X_test, y_train, y_test = train_test_split(iris.data, iris.target, test_size=0.1, stratify=iris.target)"
   ]
  },
  {
   "cell_type": "code",
   "execution_count": 5,
   "metadata": {},
   "outputs": [],
   "source": [
    "clf = KNeighborsClassifier(n_neighbors=2)\n",
    "my_clf = MyKNeighborsClassifier(n_neighbors=2)"
   ]
  },
  {
   "cell_type": "code",
   "execution_count": 6,
   "metadata": {},
   "outputs": [
    {
     "name": "stdout",
     "output_type": "stream",
     "text": [
      "CPU times: user 0 ns, sys: 0 ns, total: 0 ns\n",
      "Wall time: 2.02 ms\n"
     ]
    },
    {
     "data": {
      "text/plain": [
       "KNeighborsClassifier(algorithm='auto', leaf_size=30, metric='minkowski',\n",
       "           metric_params=None, n_jobs=None, n_neighbors=2, p=2,\n",
       "           weights='uniform')"
      ]
     },
     "execution_count": 6,
     "metadata": {},
     "output_type": "execute_result"
    }
   ],
   "source": [
    "%time clf.fit(X_train, y_train)"
   ]
  },
  {
   "cell_type": "code",
   "execution_count": 7,
   "metadata": {},
   "outputs": [
    {
     "name": "stdout",
     "output_type": "stream",
     "text": [
      "CPU times: user 0 ns, sys: 0 ns, total: 0 ns\n",
      "Wall time: 153 µs\n"
     ]
    },
    {
     "data": {
      "text/plain": [
       "MyKNeighborsClassifier(algorithm='brute', n_neighbors=2)"
      ]
     },
     "execution_count": 7,
     "metadata": {},
     "output_type": "execute_result"
    }
   ],
   "source": [
    "%time my_clf.fit(X_train, y_train)"
   ]
  },
  {
   "cell_type": "code",
   "execution_count": 8,
   "metadata": {},
   "outputs": [
    {
     "name": "stdout",
     "output_type": "stream",
     "text": [
      "CPU times: user 4 ms, sys: 0 ns, total: 4 ms\n",
      "Wall time: 2.26 ms\n"
     ]
    },
    {
     "data": {
      "text/plain": [
       "array([2, 1, 0, 2, 1, 2, 0, 1, 0, 1, 0, 2, 2, 2, 0])"
      ]
     },
     "execution_count": 8,
     "metadata": {},
     "output_type": "execute_result"
    }
   ],
   "source": [
    "%time clf.predict(X_test)"
   ]
  },
  {
   "cell_type": "code",
   "execution_count": 9,
   "metadata": {},
   "outputs": [
    {
     "name": "stdout",
     "output_type": "stream",
     "text": [
      "CPU times: user 4 ms, sys: 0 ns, total: 4 ms\n",
      "Wall time: 79.1 ms\n"
     ]
    },
    {
     "data": {
      "text/plain": [
       "array([2, 1, 0, 2, 1, 2, 0, 1, 0, 1, 0, 2, 2, 2, 0])"
      ]
     },
     "execution_count": 9,
     "metadata": {},
     "output_type": "execute_result"
    }
   ],
   "source": [
    "%time my_clf.predict(X_test)"
   ]
  },
  {
   "cell_type": "code",
   "execution_count": 10,
   "metadata": {},
   "outputs": [
    {
     "name": "stdout",
     "output_type": "stream",
     "text": [
      "CPU times: user 0 ns, sys: 0 ns, total: 0 ns\n",
      "Wall time: 1.48 ms\n"
     ]
    },
    {
     "data": {
      "text/plain": [
       "array([[0., 0., 1.],\n",
       "       [0., 1., 0.],\n",
       "       [1., 0., 0.],\n",
       "       [0., 0., 1.],\n",
       "       [0., 1., 0.],\n",
       "       [0., 0., 1.],\n",
       "       [1., 0., 0.],\n",
       "       [0., 1., 0.],\n",
       "       [1., 0., 0.],\n",
       "       [0., 1., 0.],\n",
       "       [1., 0., 0.],\n",
       "       [0., 0., 1.],\n",
       "       [0., 0., 1.],\n",
       "       [0., 0., 1.],\n",
       "       [1., 0., 0.]])"
      ]
     },
     "execution_count": 10,
     "metadata": {},
     "output_type": "execute_result"
    }
   ],
   "source": [
    "%time clf.predict_proba(X_test)"
   ]
  },
  {
   "cell_type": "code",
   "execution_count": 11,
   "metadata": {},
   "outputs": [
    {
     "name": "stdout",
     "output_type": "stream",
     "text": [
      "CPU times: user 0 ns, sys: 0 ns, total: 0 ns\n",
      "Wall time: 1.42 ms\n"
     ]
    },
    {
     "data": {
      "text/plain": [
       "array([[0., 0., 1.],\n",
       "       [0., 1., 0.],\n",
       "       [1., 0., 0.],\n",
       "       [0., 0., 1.],\n",
       "       [0., 1., 0.],\n",
       "       [0., 0., 1.],\n",
       "       [1., 0., 0.],\n",
       "       [0., 1., 0.],\n",
       "       [1., 0., 0.],\n",
       "       [0., 1., 0.],\n",
       "       [1., 0., 0.],\n",
       "       [0., 0., 1.],\n",
       "       [0., 0., 1.],\n",
       "       [0., 0., 1.],\n",
       "       [1., 0., 0.]])"
      ]
     },
     "execution_count": 11,
     "metadata": {},
     "output_type": "execute_result"
    }
   ],
   "source": [
    "%time my_clf.predict_proba(X_test)"
   ]
  },
  {
   "cell_type": "code",
   "execution_count": 12,
   "metadata": {},
   "outputs": [
    {
     "data": {
      "text/plain": [
       "0.9333333333333333"
      ]
     },
     "execution_count": 12,
     "metadata": {},
     "output_type": "execute_result"
    }
   ],
   "source": [
    "clf.score(X_test, y_test)"
   ]
  },
  {
   "cell_type": "code",
   "execution_count": 13,
   "metadata": {},
   "outputs": [
    {
     "data": {
      "text/plain": [
       "0.9333333333333333"
      ]
     },
     "execution_count": 13,
     "metadata": {},
     "output_type": "execute_result"
    }
   ],
   "source": [
    "my_clf.score(X_test, y_test)"
   ]
  },
  {
   "cell_type": "markdown",
   "metadata": {},
   "source": [
    "Задание 3"
   ]
  },
  {
   "cell_type": "code",
   "execution_count": 14,
   "metadata": {},
   "outputs": [],
   "source": [
    "\n",
    "\n",
    "max_neighbors = 30\n",
    "\n",
    "n_tests = 50\n",
    "\n",
    "my_scores = np.zeros((max_neighbors), dtype=np.float32)\n",
    "\n",
    "for j, nn_num in enumerate(range(1, max_neighbors+1, 1)):\n",
    "\n",
    "    my_clf = MyKNeighborsClassifier(n_neighbors=nn_num)\n",
    "\n",
    "    my_total_score = 0\n",
    "\n",
    "    for i in range(n_tests):\n",
    "\n",
    "        X_train, X_test, y_train, y_test = train_test_split(\n",
    "                                                        iris.data,\n",
    "                                                        iris.target,\n",
    "                                                        test_size=0.1,\n",
    "                                                        stratify=iris.target)\n",
    "        my_clf.fit(X_train, y_train)\n",
    "\n",
    "        my_total_score += my_clf.score(X_test, y_test)\n",
    "\n",
    "    my_scores[j] = my_total_score/n_tests"
   ]
  },
  {
   "cell_type": "code",
   "execution_count": 15,
   "metadata": {},
   "outputs": [
    {
     "name": "stdout",
     "output_type": "stream",
     "text": [
      "max acc:0.980000 n_neighbors:8\n"
     ]
    },
    {
     "data": {
      "image/png": "[encoded data removed]",
      "text/plain": [
       "<Figure size 1008x360 with 1 Axes>"
      ]
     },
     "metadata": {
      "needs_background": "light"
     },
     "output_type": "display_data"
    }
   ],
   "source": [
    "\n",
    "fig = plt.figure(figsize=(14, 5))\n",
    "graph = plt.plot(np.arange(0, max_neighbors),\n",
    "                 my_scores, color='r', label='score')\n",
    "plt.legend(fontsize=18)\n",
    "print(\"max acc:%f n_neighbors:%d\" % (np.max(my_scores), np.argmax(my_scores)))"
   ]
  },
  {
   "cell_type": "markdown",
   "metadata": {},
   "source": [
    "**MNIST**"
   ]
  },
  {
   "cell_type": "code",
   "execution_count": 16,
   "metadata": {},
   "outputs": [
    {
     "name": "stderr",
     "output_type": "stream",
     "text": [
      "/usr/local/lib/python3.5/dist-packages/sklearn/utils/deprecation.py:77: DeprecationWarning: Function fetch_mldata is deprecated; fetch_mldata was deprecated in version 0.20 and will be removed in version 0.22\n",
      "  warnings.warn(msg, category=DeprecationWarning)\n",
      "/usr/local/lib/python3.5/dist-packages/sklearn/utils/deprecation.py:77: DeprecationWarning: Function mldata_filename is deprecated; mldata_filename was deprecated in version 0.20 and will be removed in version 0.22\n",
      "  warnings.warn(msg, category=DeprecationWarning)\n"
     ]
    }
   ],
   "source": [
    "mnist = fetch_mldata('MNIST original')"
   ]
  },
  {
   "cell_type": "code",
   "execution_count": 17,
   "metadata": {},
   "outputs": [],
   "source": [
    "X_train, X_test, y_train, y_test = train_test_split(mnist.data, mnist.target, test_size=0.01, stratify=mnist.target)"
   ]
  },
  {
   "cell_type": "code",
   "execution_count": 18,
   "metadata": {},
   "outputs": [],
   "source": [
    "clf = KNeighborsClassifier(n_neighbors=2, algorithm='brute')\n",
    "my_clf = MyKNeighborsClassifier(n_neighbors=2, algorithm='brute')"
   ]
  },
  {
   "cell_type": "code",
   "execution_count": 19,
   "metadata": {},
   "outputs": [
    {
     "name": "stdout",
     "output_type": "stream",
     "text": [
      "CPU times: user 20 ms, sys: 0 ns, total: 20 ms\n",
      "Wall time: 17.7 ms\n"
     ]
    },
    {
     "data": {
      "text/plain": [
       "KNeighborsClassifier(algorithm='brute', leaf_size=30, metric='minkowski',\n",
       "           metric_params=None, n_jobs=None, n_neighbors=2, p=2,\n",
       "           weights='uniform')"
      ]
     },
     "execution_count": 19,
     "metadata": {},
     "output_type": "execute_result"
    }
   ],
   "source": [
    "%time clf.fit(X_train, y_train)"
   ]
  },
  {
   "cell_type": "code",
   "execution_count": 20,
   "metadata": {},
   "outputs": [
    {
     "name": "stdout",
     "output_type": "stream",
     "text": [
      "CPU times: user 4 ms, sys: 0 ns, total: 4 ms\n",
      "Wall time: 4.89 ms\n"
     ]
    },
    {
     "data": {
      "text/plain": [
       "MyKNeighborsClassifier(algorithm='brute', n_neighbors=2)"
      ]
     },
     "execution_count": 20,
     "metadata": {},
     "output_type": "execute_result"
    }
   ],
   "source": [
    "%time my_clf.fit(X_train, y_train)"
   ]
  },
  {
   "cell_type": "code",
   "execution_count": 21,
   "metadata": {},
   "outputs": [
    {
     "name": "stdout",
     "output_type": "stream",
     "text": [
      "CPU times: user 13.5 s, sys: 1.7 s, total: 15.2 s\n",
      "Wall time: 5.4 s\n"
     ]
    },
    {
     "data": {
      "text/plain": [
       "array([6., 2., 4., 8., 3., 3., 4., 5., 4., 5., 1., 1., 1., 4., 0., 1., 7.,\n",
       "       0., 9., 7., 3., 3., 7., 6., 9., 1., 0., 2., 8., 3., 1., 3., 3., 4.,\n",
       "       3., 0., 9., 2., 6., 9., 5., 7., 8., 5., 2., 8., 3., 2., 3., 1., 4.,\n",
       "       2., 2., 8., 8., 2., 2., 4., 9., 5., 9., 6., 9., 6., 0., 7., 1., 0.,\n",
       "       6., 6., 2., 0., 8., 2., 5., 9., 8., 8., 5., 8., 5., 1., 1., 5., 4.,\n",
       "       4., 7., 7., 7., 0., 0., 4., 6., 5., 0., 1., 7., 6., 9., 5., 5., 4.,\n",
       "       3., 3., 3., 4., 0., 6., 3., 5., 3., 1., 8., 8., 2., 3., 6., 4., 2.,\n",
       "       4., 9., 1., 1., 0., 6., 6., 8., 4., 0., 0., 5., 7., 3., 4., 3., 9.,\n",
       "       6., 5., 9., 0., 7., 2., 1., 5., 5., 2., 8., 0., 0., 2., 9., 9., 7.,\n",
       "       2., 5., 1., 3., 9., 6., 3., 6., 2., 7., 9., 8., 1., 8., 6., 9., 9.,\n",
       "       7., 0., 4., 2., 1., 7., 3., 9., 6., 5., 9., 4., 2., 3., 4., 9., 9.,\n",
       "       7., 7., 6., 1., 7., 1., 4., 0., 4., 9., 8., 0., 7., 7., 4., 7., 1.,\n",
       "       2., 9., 1., 6., 3., 5., 2., 0., 2., 7., 2., 7., 3., 3., 8., 2., 5.,\n",
       "       4., 6., 1., 6., 1., 3., 9., 2., 9., 5., 3., 6., 0., 0., 0., 2., 7.,\n",
       "       2., 2., 7., 7., 5., 8., 3., 2., 4., 3., 9., 5., 6., 9., 2., 7., 5.,\n",
       "       8., 3., 8., 1., 2., 7., 0., 8., 8., 0., 4., 8., 2., 8., 3., 4., 9.,\n",
       "       4., 0., 3., 3., 7., 9., 8., 5., 0., 3., 9., 5., 6., 0., 1., 5., 7.,\n",
       "       4., 7., 8., 5., 7., 7., 7., 7., 7., 5., 4., 6., 8., 0., 0., 0., 3.,\n",
       "       3., 0., 1., 7., 4., 3., 1., 0., 7., 9., 1., 2., 0., 1., 0., 2., 6.,\n",
       "       1., 5., 6., 2., 4., 9., 0., 1., 8., 1., 5., 6., 1., 4., 8., 1., 2.,\n",
       "       7., 3., 3., 1., 4., 1., 8., 1., 2., 3., 9., 9., 4., 2., 2., 6., 6.,\n",
       "       4., 6., 3., 3., 9., 4., 1., 4., 3., 5., 7., 4., 7., 4., 2., 3., 2.,\n",
       "       3., 5., 6., 0., 9., 7., 4., 3., 3., 9., 9., 8., 1., 3., 1., 7., 3.,\n",
       "       6., 0., 5., 1., 8., 9., 6., 7., 0., 8., 4., 0., 4., 0., 0., 0., 3.,\n",
       "       2., 7., 2., 1., 8., 1., 8., 8., 5., 0., 4., 4., 9., 6., 4., 7., 4.,\n",
       "       2., 0., 7., 0., 5., 5., 6., 1., 1., 6., 9., 4., 9., 7., 3., 2., 6.,\n",
       "       5., 2., 7., 0., 0., 1., 4., 4., 4., 8., 0., 2., 1., 1., 1., 9., 3.,\n",
       "       8., 0., 3., 1., 2., 6., 5., 9., 7., 8., 3., 9., 8., 4., 0., 3., 5.,\n",
       "       3., 5., 4., 5., 5., 3., 8., 9., 9., 2., 5., 7., 0., 6., 6., 9., 4.,\n",
       "       0., 5., 1., 4., 8., 2., 9., 6., 4., 6., 2., 2., 1., 5., 4., 0., 3.,\n",
       "       2., 0., 6., 5., 8., 1., 8., 5., 0., 5., 8., 2., 1., 1., 0., 6., 9.,\n",
       "       7., 1., 0., 2., 9., 4., 8., 8., 8., 9., 2., 3., 8., 7., 5., 1., 1.,\n",
       "       5., 4., 1., 8., 3., 6., 1., 9., 9., 7., 6., 1., 6., 1., 3., 3., 2.,\n",
       "       7., 0., 5., 7., 7., 4., 0., 4., 0., 1., 0., 8., 7., 3., 2., 9., 4.,\n",
       "       9., 0., 1., 7., 6., 2., 1., 3., 2., 6., 6., 6., 8., 8., 3., 1., 0.,\n",
       "       2., 9., 7., 2., 7., 8., 6., 7., 1., 6., 3., 8., 2., 7., 0., 9., 4.,\n",
       "       9., 0., 3., 1., 4., 1., 9., 2., 7., 3., 2., 5., 4., 9., 4., 8., 6.,\n",
       "       5., 8., 7., 6., 9., 2., 6., 7., 2., 3., 6., 4., 1., 6., 8., 6., 0.,\n",
       "       3., 5., 7., 9., 0., 0., 9., 7., 8., 5., 3., 1., 7., 8., 4., 6., 9.,\n",
       "       9., 2., 5., 3., 2., 2., 0., 5., 0., 1., 9., 5., 9., 6., 5., 1., 6.,\n",
       "       5., 7., 8., 4., 1., 1., 4., 1., 8., 7., 1., 6., 7., 3., 1., 7., 6.,\n",
       "       6., 1., 1.])"
      ]
     },
     "execution_count": 21,
     "metadata": {},
     "output_type": "execute_result"
    }
   ],
   "source": [
    "%time clf.predict(X_test)"
   ]
  },
  {
   "cell_type": "code",
   "execution_count": 22,
   "metadata": {},
   "outputs": [
    {
     "name": "stdout",
     "output_type": "stream",
     "text": [
      "CPU times: user 14.9 s, sys: 1.28 s, total: 16.2 s\n",
      "Wall time: 5.44 s\n"
     ]
    },
    {
     "data": {
      "text/plain": [
       "array([6, 2, 4, 8, 3, 3, 4, 5, 4, 5, 1, 1, 1, 4, 0, 1, 7, 0, 9, 7, 3, 3,\n",
       "       7, 6, 9, 1, 0, 2, 8, 3, 1, 3, 3, 4, 3, 0, 9, 2, 6, 9, 5, 7, 8, 5,\n",
       "       2, 8, 3, 2, 3, 1, 4, 2, 2, 8, 8, 2, 2, 4, 9, 5, 9, 6, 9, 6, 0, 7,\n",
       "       1, 0, 6, 6, 2, 0, 8, 2, 5, 9, 8, 8, 5, 8, 5, 1, 1, 5, 4, 4, 7, 7,\n",
       "       7, 0, 0, 4, 6, 5, 0, 1, 7, 6, 9, 5, 5, 4, 3, 3, 3, 4, 0, 6, 3, 5,\n",
       "       3, 1, 8, 8, 2, 3, 6, 4, 2, 4, 9, 1, 1, 0, 6, 6, 8, 4, 0, 0, 5, 7,\n",
       "       3, 4, 3, 9, 6, 5, 9, 0, 7, 2, 1, 5, 5, 2, 8, 0, 0, 2, 9, 9, 7, 2,\n",
       "       5, 1, 3, 9, 6, 3, 6, 2, 7, 9, 8, 1, 8, 6, 9, 9, 7, 0, 4, 2, 1, 7,\n",
       "       3, 9, 6, 5, 9, 4, 2, 3, 4, 9, 9, 7, 7, 6, 1, 7, 1, 4, 0, 4, 9, 8,\n",
       "       0, 7, 7, 4, 7, 1, 2, 9, 1, 6, 3, 5, 2, 0, 2, 7, 2, 7, 3, 3, 8, 2,\n",
       "       5, 4, 6, 1, 6, 1, 3, 9, 2, 9, 5, 3, 6, 0, 0, 0, 2, 7, 2, 2, 7, 7,\n",
       "       5, 8, 3, 2, 4, 3, 9, 5, 6, 9, 2, 7, 5, 8, 3, 8, 1, 2, 7, 0, 8, 8,\n",
       "       0, 4, 8, 2, 8, 3, 4, 9, 4, 0, 3, 3, 7, 9, 8, 5, 0, 3, 9, 5, 6, 0,\n",
       "       1, 5, 7, 4, 7, 8, 5, 7, 7, 7, 7, 7, 5, 4, 6, 8, 0, 0, 0, 3, 3, 0,\n",
       "       1, 7, 4, 3, 1, 0, 7, 9, 1, 2, 0, 1, 0, 2, 6, 1, 5, 6, 2, 4, 9, 0,\n",
       "       1, 8, 1, 5, 6, 1, 4, 8, 1, 2, 7, 3, 3, 1, 4, 1, 8, 1, 2, 3, 9, 9,\n",
       "       4, 2, 2, 6, 6, 4, 6, 3, 3, 9, 4, 1, 4, 3, 5, 7, 4, 7, 4, 2, 3, 2,\n",
       "       3, 5, 6, 0, 9, 7, 4, 3, 3, 9, 9, 8, 1, 3, 1, 7, 3, 6, 0, 5, 1, 8,\n",
       "       9, 6, 7, 0, 8, 4, 0, 4, 0, 0, 0, 3, 2, 7, 2, 1, 8, 1, 8, 8, 5, 0,\n",
       "       4, 4, 9, 6, 4, 7, 4, 2, 0, 7, 0, 5, 5, 6, 1, 1, 6, 9, 4, 9, 7, 3,\n",
       "       2, 6, 5, 2, 7, 0, 0, 1, 4, 4, 4, 8, 0, 2, 1, 1, 1, 9, 3, 8, 0, 3,\n",
       "       1, 2, 6, 5, 9, 7, 8, 3, 9, 8, 4, 0, 3, 5, 3, 5, 4, 5, 5, 3, 8, 9,\n",
       "       9, 2, 5, 7, 0, 6, 6, 9, 4, 0, 5, 1, 4, 8, 2, 9, 6, 4, 6, 2, 2, 1,\n",
       "       5, 4, 0, 3, 2, 0, 6, 5, 8, 1, 8, 5, 0, 5, 8, 2, 1, 1, 0, 6, 9, 7,\n",
       "       1, 0, 2, 9, 4, 8, 8, 8, 9, 2, 3, 8, 7, 5, 1, 1, 5, 4, 1, 8, 3, 6,\n",
       "       1, 9, 9, 7, 6, 1, 6, 1, 3, 3, 2, 7, 0, 5, 7, 7, 4, 0, 4, 0, 1, 0,\n",
       "       8, 7, 3, 2, 9, 4, 9, 0, 1, 7, 6, 2, 1, 3, 2, 6, 6, 6, 8, 8, 3, 1,\n",
       "       0, 2, 9, 7, 2, 7, 8, 6, 7, 1, 6, 3, 8, 2, 7, 0, 9, 4, 9, 0, 3, 1,\n",
       "       4, 1, 9, 2, 7, 3, 2, 5, 4, 9, 4, 8, 6, 5, 8, 7, 6, 9, 2, 6, 7, 2,\n",
       "       3, 6, 4, 1, 6, 8, 6, 0, 3, 5, 7, 9, 0, 0, 9, 7, 8, 5, 3, 1, 7, 8,\n",
       "       4, 6, 9, 9, 2, 5, 3, 2, 2, 0, 5, 0, 1, 9, 5, 9, 6, 5, 1, 6, 5, 7,\n",
       "       8, 4, 1, 1, 4, 1, 8, 7, 1, 6, 7, 3, 1, 7, 6, 6, 1, 1])"
      ]
     },
     "execution_count": 22,
     "metadata": {},
     "output_type": "execute_result"
    }
   ],
   "source": [
    "%time my_clf.predict(X_test)"
   ]
  },
  {
   "cell_type": "code",
   "execution_count": 23,
   "metadata": {},
   "outputs": [
    {
     "name": "stdout",
     "output_type": "stream",
     "text": [
      "CPU times: user 14.8 s, sys: 1.41 s, total: 16.3 s\n",
      "Wall time: 5.27 s\n"
     ]
    },
    {
     "data": {
      "text/plain": [
       "array([[0., 0., 0., ..., 0., 0., 0.],\n",
       "       [0., 0., 1., ..., 0., 0., 0.],\n",
       "       [0., 0., 0., ..., 0., 0., 0.],\n",
       "       ...,\n",
       "       [0., 0., 0., ..., 0., 0., 0.],\n",
       "       [0., 1., 0., ..., 0., 0., 0.],\n",
       "       [0., 1., 0., ..., 0., 0., 0.]])"
      ]
     },
     "execution_count": 23,
     "metadata": {},
     "output_type": "execute_result"
    }
   ],
   "source": [
    "%time clf.predict_proba(X_test)"
   ]
  },
  {
   "cell_type": "code",
   "execution_count": 24,
   "metadata": {},
   "outputs": [
    {
     "name": "stdout",
     "output_type": "stream",
     "text": [
      "CPU times: user 13.6 s, sys: 1.75 s, total: 15.4 s\n",
      "Wall time: 5.79 s\n"
     ]
    },
    {
     "data": {
      "text/plain": [
       "array([[0., 0., 0., ..., 0., 0., 0.],\n",
       "       [0., 0., 1., ..., 0., 0., 0.],\n",
       "       [0., 0., 0., ..., 0., 0., 0.],\n",
       "       ...,\n",
       "       [0., 0., 0., ..., 0., 0., 0.],\n",
       "       [0., 1., 0., ..., 0., 0., 0.],\n",
       "       [0., 1., 0., ..., 0., 0., 0.]])"
      ]
     },
     "execution_count": 24,
     "metadata": {},
     "output_type": "execute_result"
    }
   ],
   "source": [
    "%time my_clf.predict_proba(X_test)"
   ]
  },
  {
   "cell_type": "code",
   "execution_count": 25,
   "metadata": {},
   "outputs": [
    {
     "data": {
      "text/plain": [
       "0.9628571428571429"
      ]
     },
     "execution_count": 25,
     "metadata": {},
     "output_type": "execute_result"
    }
   ],
   "source": [
    "clf.score(X_test, y_test)"
   ]
  },
  {
   "cell_type": "code",
   "execution_count": 26,
   "metadata": {},
   "outputs": [
    {
     "data": {
      "text/plain": [
       "0.9628571428571429"
      ]
     },
     "execution_count": 26,
     "metadata": {},
     "output_type": "execute_result"
    }
   ],
   "source": [
    "my_clf.score(X_test, y_test)"
   ]
  },
  {
   "cell_type": "markdown",
   "metadata": {},
   "source": [
    "Задание 4"
   ]
  },
  {
   "cell_type": "code",
   "execution_count": 27,
   "metadata": {},
   "outputs": [],
   "source": [
    "clf = KNeighborsClassifier(n_neighbors=2, algorithm='kd_tree')\n",
    "my_clf = MyKNeighborsClassifier(n_neighbors=2, algorithm='kd_tree')"
   ]
  },
  {
   "cell_type": "code",
   "execution_count": 28,
   "metadata": {},
   "outputs": [],
   "source": [
    "X_train, X_test, y_train, y_test = train_test_split(mnist.data,\n",
    "                                                    mnist.target,\n",
    "                                                    test_size=0.01,\n",
    "                                                    stratify=mnist.target)"
   ]
  },
  {
   "cell_type": "code",
   "execution_count": 29,
   "metadata": {},
   "outputs": [
    {
     "name": "stdout",
     "output_type": "stream",
     "text": [
      "CPU times: user 1min 19s, sys: 544 ms, total: 1min 19s\n",
      "Wall time: 1min 19s\n"
     ]
    },
    {
     "data": {
      "text/plain": [
       "KNeighborsClassifier(algorithm='kd_tree', leaf_size=30, metric='minkowski',\n",
       "           metric_params=None, n_jobs=None, n_neighbors=2, p=2,\n",
       "           weights='uniform')"
      ]
     },
     "execution_count": 29,
     "metadata": {},
     "output_type": "execute_result"
    }
   ],
   "source": [
    "%time clf.fit(X_train, y_train)"
   ]
  },
  {
   "cell_type": "code",
   "execution_count": 30,
   "metadata": {},
   "outputs": [
    {
     "name": "stdout",
     "output_type": "stream",
     "text": [
      "CPU times: user 1min 16s, sys: 524 ms, total: 1min 16s\n",
      "Wall time: 1min 16s\n"
     ]
    },
    {
     "data": {
      "text/plain": [
       "MyKNeighborsClassifier(algorithm='kd_tree', n_neighbors=2)"
      ]
     },
     "execution_count": 30,
     "metadata": {},
     "output_type": "execute_result"
    }
   ],
   "source": [
    "%time my_clf.fit(X_train, y_train)"
   ]
  },
  {
   "cell_type": "code",
   "execution_count": 31,
   "metadata": {},
   "outputs": [
    {
     "name": "stdout",
     "output_type": "stream",
     "text": [
      "CPU times: user 2min 28s, sys: 100 ms, total: 2min 28s\n",
      "Wall time: 2min 28s\n"
     ]
    },
    {
     "data": {
      "text/plain": [
       "array([5., 6., 5., 5., 4., 7., 8., 4., 8., 2., 5., 1., 7., 0., 6., 8., 8.,\n",
       "       9., 7., 9., 5., 1., 1., 6., 6., 8., 5., 3., 5., 2., 1., 5., 1., 9.,\n",
       "       0., 4., 7., 8., 7., 1., 0., 8., 7., 4., 9., 3., 1., 4., 5., 4., 0.,\n",
       "       0., 9., 6., 9., 2., 4., 1., 6., 1., 2., 0., 5., 7., 2., 3., 1., 2.,\n",
       "       4., 0., 9., 1., 2., 1., 0., 1., 1., 0., 6., 6., 6., 3., 7., 7., 2.,\n",
       "       3., 0., 9., 8., 8., 7., 1., 5., 8., 1., 8., 5., 2., 3., 1., 1., 7.,\n",
       "       2., 9., 1., 6., 2., 7., 7., 6., 3., 9., 3., 7., 4., 0., 9., 3., 0.,\n",
       "       8., 5., 0., 3., 0., 8., 1., 4., 0., 0., 3., 2., 3., 6., 9., 1., 8.,\n",
       "       9., 1., 4., 3., 3., 4., 3., 8., 1., 3., 3., 5., 8., 4., 8., 8., 7.,\n",
       "       2., 9., 7., 8., 5., 3., 9., 8., 5., 7., 3., 2., 4., 0., 3., 4., 1.,\n",
       "       0., 9., 7., 1., 7., 0., 0., 2., 7., 4., 5., 4., 9., 1., 6., 8., 8.,\n",
       "       9., 5., 9., 6., 0., 7., 4., 6., 8., 5., 1., 2., 8., 7., 4., 4., 8.,\n",
       "       6., 1., 0., 9., 0., 9., 9., 5., 1., 3., 3., 0., 9., 1., 2., 1., 7.,\n",
       "       7., 8., 7., 9., 9., 3., 3., 1., 1., 6., 7., 1., 3., 0., 0., 3., 6.,\n",
       "       9., 9., 4., 9., 6., 0., 6., 2., 5., 1., 1., 3., 5., 8., 7., 1., 9.,\n",
       "       2., 6., 0., 4., 1., 7., 5., 8., 9., 7., 6., 5., 6., 3., 3., 6., 5.,\n",
       "       4., 2., 8., 4., 3., 7., 2., 3., 4., 2., 5., 4., 2., 9., 1., 9., 2.,\n",
       "       3., 7., 2., 3., 6., 6., 2., 4., 5., 1., 4., 7., 4., 6., 8., 2., 9.,\n",
       "       0., 7., 1., 0., 2., 0., 5., 4., 6., 4., 6., 1., 6., 3., 7., 7., 6.,\n",
       "       3., 2., 0., 5., 8., 3., 6., 3., 6., 3., 1., 0., 1., 3., 7., 2., 9.,\n",
       "       7., 7., 1., 3., 8., 2., 9., 4., 7., 6., 6., 5., 3., 7., 4., 6., 2.,\n",
       "       8., 4., 0., 2., 8., 6., 6., 7., 7., 4., 2., 9., 5., 9., 7., 4., 2.,\n",
       "       0., 7., 3., 2., 9., 7., 4., 6., 3., 4., 1., 3., 6., 4., 3., 6., 4.,\n",
       "       1., 1., 4., 2., 3., 1., 2., 8., 4., 2., 8., 8., 3., 4., 9., 0., 5.,\n",
       "       0., 0., 1., 3., 1., 0., 6., 9., 5., 4., 0., 1., 9., 7., 0., 9., 8.,\n",
       "       9., 6., 8., 0., 7., 1., 7., 6., 7., 6., 2., 2., 9., 9., 0., 4., 4.,\n",
       "       3., 5., 8., 0., 9., 6., 9., 2., 3., 1., 0., 3., 1., 3., 8., 2., 5.,\n",
       "       1., 5., 1., 0., 1., 9., 8., 9., 6., 1., 4., 4., 2., 5., 9., 8., 5.,\n",
       "       4., 1., 4., 5., 6., 3., 0., 1., 2., 5., 4., 3., 0., 2., 1., 3., 7.,\n",
       "       5., 6., 9., 4., 4., 6., 2., 5., 6., 6., 4., 2., 8., 5., 7., 0., 8.,\n",
       "       4., 7., 3., 5., 9., 1., 6., 0., 6., 0., 7., 8., 5., 6., 7., 2., 3.,\n",
       "       2., 5., 6., 0., 4., 0., 5., 9., 1., 6., 7., 0., 1., 5., 2., 4., 6.,\n",
       "       5., 1., 0., 6., 7., 8., 8., 4., 0., 6., 9., 9., 0., 2., 2., 3., 1.,\n",
       "       3., 0., 7., 0., 1., 7., 3., 0., 2., 7., 1., 3., 2., 3., 7., 4., 9.,\n",
       "       8., 7., 2., 2., 0., 9., 9., 6., 7., 6., 1., 3., 4., 3., 2., 2., 2.,\n",
       "       1., 7., 8., 3., 7., 0., 1., 5., 2., 2., 1., 1., 5., 5., 7., 5., 1.,\n",
       "       4., 8., 0., 4., 9., 2., 2., 3., 0., 2., 3., 6., 5., 1., 8., 5., 4.,\n",
       "       4., 9., 4., 1., 3., 5., 3., 0., 5., 0., 5., 8., 1., 9., 8., 8., 4.,\n",
       "       3., 2., 1., 7., 7., 6., 6., 0., 7., 9., 0., 2., 5., 8., 7., 6., 9.,\n",
       "       9., 9., 8., 7., 8., 4., 9., 9., 0., 8., 2., 9., 4., 4., 3., 2., 5.,\n",
       "       8., 1., 6., 2., 7., 3., 4., 5., 4., 4., 7., 9., 7., 6., 7., 3., 8.,\n",
       "       1., 9., 1.])"
      ]
     },
     "execution_count": 31,
     "metadata": {},
     "output_type": "execute_result"
    }
   ],
   "source": [
    "%time clf.predict(X_test)"
   ]
  },
  {
   "cell_type": "code",
   "execution_count": 32,
   "metadata": {},
   "outputs": [
    {
     "name": "stdout",
     "output_type": "stream",
     "text": [
      "CPU times: user 2min 1s, sys: 48 ms, total: 2min 1s\n",
      "Wall time: 2min 1s\n"
     ]
    },
    {
     "data": {
      "text/plain": [
       "array([5, 6, 5, 5, 4, 7, 8, 4, 8, 2, 5, 1, 7, 0, 6, 8, 8, 9, 7, 9, 5, 1,\n",
       "       1, 6, 6, 8, 5, 3, 5, 2, 1, 5, 1, 9, 0, 4, 7, 8, 7, 1, 0, 8, 7, 4,\n",
       "       9, 3, 1, 4, 5, 4, 0, 0, 9, 6, 9, 2, 4, 1, 6, 1, 2, 0, 5, 7, 2, 3,\n",
       "       1, 2, 4, 0, 9, 1, 2, 1, 0, 1, 1, 0, 6, 6, 6, 3, 7, 7, 2, 3, 0, 9,\n",
       "       8, 8, 7, 1, 5, 8, 1, 8, 5, 2, 3, 1, 1, 7, 2, 9, 1, 6, 2, 7, 7, 6,\n",
       "       3, 9, 3, 7, 4, 0, 9, 3, 0, 8, 5, 0, 3, 0, 8, 1, 4, 0, 0, 3, 2, 3,\n",
       "       6, 9, 1, 8, 9, 1, 4, 3, 3, 4, 3, 8, 1, 3, 3, 5, 8, 4, 8, 8, 7, 2,\n",
       "       9, 7, 8, 5, 3, 9, 8, 5, 7, 3, 2, 4, 0, 3, 4, 1, 0, 9, 7, 1, 7, 0,\n",
       "       0, 2, 7, 4, 5, 4, 9, 1, 6, 8, 8, 9, 5, 9, 6, 0, 7, 4, 6, 8, 5, 1,\n",
       "       2, 8, 7, 4, 4, 8, 6, 1, 0, 9, 0, 9, 9, 5, 1, 3, 3, 0, 9, 1, 2, 1,\n",
       "       7, 7, 8, 7, 9, 9, 3, 3, 1, 1, 6, 7, 1, 3, 0, 0, 3, 6, 9, 9, 4, 9,\n",
       "       6, 0, 6, 2, 5, 1, 1, 3, 5, 8, 7, 1, 9, 2, 6, 0, 4, 1, 7, 5, 8, 9,\n",
       "       7, 6, 5, 6, 3, 3, 6, 5, 4, 2, 8, 4, 3, 7, 2, 3, 4, 2, 5, 4, 2, 9,\n",
       "       1, 9, 2, 3, 7, 2, 3, 6, 6, 2, 4, 5, 1, 4, 7, 4, 6, 8, 2, 9, 0, 7,\n",
       "       1, 0, 2, 0, 5, 4, 6, 4, 6, 1, 6, 3, 7, 7, 6, 3, 2, 0, 5, 8, 3, 6,\n",
       "       3, 6, 3, 1, 0, 1, 3, 7, 2, 9, 7, 7, 1, 3, 8, 2, 9, 4, 7, 6, 6, 5,\n",
       "       3, 7, 4, 6, 2, 8, 4, 0, 2, 8, 6, 6, 7, 7, 4, 2, 9, 5, 9, 7, 4, 2,\n",
       "       0, 7, 3, 2, 9, 7, 4, 6, 3, 4, 1, 3, 6, 4, 3, 6, 4, 1, 1, 4, 2, 3,\n",
       "       1, 2, 8, 4, 2, 8, 8, 3, 4, 9, 0, 5, 0, 0, 1, 3, 1, 0, 6, 9, 5, 4,\n",
       "       0, 1, 9, 7, 0, 9, 8, 9, 6, 8, 0, 7, 1, 7, 6, 7, 6, 2, 2, 9, 9, 0,\n",
       "       4, 4, 3, 5, 8, 0, 9, 6, 9, 2, 3, 1, 0, 3, 1, 3, 8, 2, 5, 1, 5, 1,\n",
       "       0, 1, 9, 8, 9, 6, 1, 4, 4, 2, 5, 9, 8, 5, 4, 1, 4, 5, 6, 3, 0, 1,\n",
       "       2, 5, 4, 3, 0, 2, 1, 3, 7, 5, 6, 9, 4, 4, 6, 2, 5, 6, 6, 4, 2, 8,\n",
       "       5, 7, 0, 8, 4, 7, 3, 5, 9, 1, 6, 0, 6, 0, 7, 8, 5, 6, 7, 2, 3, 2,\n",
       "       5, 6, 0, 4, 0, 5, 9, 1, 6, 7, 0, 1, 5, 2, 4, 6, 5, 1, 0, 6, 7, 8,\n",
       "       8, 4, 0, 6, 9, 9, 0, 2, 2, 3, 1, 3, 0, 7, 0, 1, 7, 3, 0, 2, 7, 1,\n",
       "       3, 2, 3, 7, 4, 9, 8, 7, 2, 2, 0, 9, 9, 6, 7, 6, 1, 3, 4, 3, 2, 2,\n",
       "       2, 1, 7, 8, 3, 7, 0, 1, 5, 2, 2, 1, 1, 5, 5, 7, 5, 1, 4, 8, 0, 4,\n",
       "       9, 2, 2, 3, 0, 2, 3, 6, 5, 1, 8, 5, 4, 4, 9, 4, 1, 3, 5, 3, 0, 5,\n",
       "       0, 5, 8, 1, 9, 8, 8, 4, 3, 2, 1, 7, 7, 6, 6, 0, 7, 9, 0, 2, 5, 8,\n",
       "       7, 6, 9, 9, 9, 8, 7, 8, 4, 9, 9, 0, 8, 2, 9, 4, 4, 3, 2, 5, 8, 1,\n",
       "       6, 2, 7, 3, 4, 5, 4, 4, 7, 9, 7, 6, 7, 3, 8, 1, 9, 1])"
      ]
     },
     "execution_count": 32,
     "metadata": {},
     "output_type": "execute_result"
    }
   ],
   "source": [
    "%time my_clf.predict(X_test)"
   ]
  },
  {
   "cell_type": "code",
   "execution_count": 33,
   "metadata": {},
   "outputs": [
    {
     "name": "stdout",
     "output_type": "stream",
     "text": [
      "CPU times: user 2min 30s, sys: 80 ms, total: 2min 30s\n",
      "Wall time: 2min 31s\n"
     ]
    },
    {
     "data": {
      "text/plain": [
       "array([[0., 0., 0., ..., 0., 0., 0.],\n",
       "       [0., 0., 0., ..., 0., 0., 0.],\n",
       "       [0., 0., 0., ..., 0., 0., 0.],\n",
       "       ...,\n",
       "       [0., 1., 0., ..., 0., 0., 0.],\n",
       "       [0., 0., 0., ..., 0., 0., 1.],\n",
       "       [0., 1., 0., ..., 0., 0., 0.]])"
      ]
     },
     "execution_count": 33,
     "metadata": {},
     "output_type": "execute_result"
    }
   ],
   "source": [
    "%time clf.predict_proba(X_test)"
   ]
  },
  {
   "cell_type": "code",
   "execution_count": 34,
   "metadata": {},
   "outputs": [
    {
     "name": "stdout",
     "output_type": "stream",
     "text": [
      "CPU times: user 2min, sys: 4 ms, total: 2min\n",
      "Wall time: 2min\n"
     ]
    },
    {
     "data": {
      "text/plain": [
       "array([[0., 0., 0., ..., 0., 0., 0.],\n",
       "       [0., 0., 0., ..., 0., 0., 0.],\n",
       "       [0., 0., 0., ..., 0., 0., 0.],\n",
       "       ...,\n",
       "       [0., 1., 0., ..., 0., 0., 0.],\n",
       "       [0., 0., 0., ..., 0., 0., 1.],\n",
       "       [0., 1., 0., ..., 0., 0., 0.]])"
      ]
     },
     "execution_count": 34,
     "metadata": {},
     "output_type": "execute_result"
    }
   ],
   "source": [
    "%time my_clf.predict_proba(X_test)"
   ]
  },
  {
   "cell_type": "code",
   "execution_count": 35,
   "metadata": {},
   "outputs": [
    {
     "data": {
      "text/plain": [
       "0.9628571428571429"
      ]
     },
     "execution_count": 35,
     "metadata": {},
     "output_type": "execute_result"
    }
   ],
   "source": [
    "clf.score(X_test, y_test)"
   ]
  },
  {
   "cell_type": "code",
   "execution_count": 36,
   "metadata": {},
   "outputs": [
    {
     "data": {
      "text/plain": [
       "0.9628571428571429"
      ]
     },
     "execution_count": 36,
     "metadata": {},
     "output_type": "execute_result"
    }
   ],
   "source": [
    "my_clf.score(X_test, y_test)"
   ]
  },
  {
   "cell_type": "markdown",
   "metadata": {},
   "source": [
    "Задание 5"
   ]
  },
  {
   "cell_type": "code",
   "execution_count": 38,
   "metadata": {},
   "outputs": [],
   "source": [
    "# seaborn  -- библиотека для визуализации  данных  и статистик\n",
    "# matplotlib -- библиотека для визуализации данных и постороения графиков\n",
    "# train_test_split -- sklearn функция разделения выборки и лейблов на тестирующую и обучающую выборки\n",
    "# Pipeline() (from sklearn.pipeline import Pipeline) -- это объект, реализующий существующий алгоритм ml.\n",
    "# Т.е. он выполняет последовательность  различных преобразований исходного набора данных до \n",
    "# применения окончательной оценки.\n",
    "#%load_ext e -- загрузка расширения e \n",
    "# StandardScaler (from sklearn.preprocessing import StandardScaler)  -- класс,используемый при \n",
    "#  препроцессинге, нормализация - центрирование + шкалирование  т.е. вычитаем среднее и делим\n",
    "#  на стандартное отклонение )  \n",
    "# ClassifierMixin -- родительский класс(примесь) почти всех классификаторов, используемый для вычисления score\n",
    "# NeighborsBase  -- родительский класс(примесь) для KNN классификатора , в котором реализованы подсчёт метрики,\n",
    "# обучение, проверка корректности алгоритма поиска\n",
    "# KNeighborsMixin -- родительский класс для классификатора KNN, в котором реализованы\n",
    "# алгоритмы поиска ближайших соседей\n",
    "# SupervisedIntegerMixin -- класс (примесь) ,вызывающий fit метод для KNN и проверяющая его работоспособность   "
   ]
  },
  {
   "cell_type": "code",
   "execution_count": null,
   "metadata": {},
   "outputs": [],
   "source": []
  }
 ],
 "metadata": {
  "kernelspec": {
   "display_name": "Python 3",
   "language": "python",
   "name": "python3"
  },
  "language_info": {
   "codemirror_mode": {
    "name": "ipython",
    "version": 3
   },
   "file_extension": ".py",
   "mimetype": "text/x-python",
   "name": "python",
   "nbconvert_exporter": "python",
   "pygments_lexer": "ipython3",
   "version": "3.5.2"
  }
 },
 "nbformat": 4,
 "nbformat_minor": 2
}
